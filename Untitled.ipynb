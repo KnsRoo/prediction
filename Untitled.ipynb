{
 "cells": [
  {
   "cell_type": "code",
   "execution_count": 98,
   "id": "c1e98f20",
   "metadata": {},
   "outputs": [],
   "source": [
    "from pandas import read_csv, DataFrame\n",
    "import numpy as np\n",
    "import matplotlib.pyplot as plt\n",
    "import matplotlib.figure as fig\n",
    "import statsmodels.api as sm\n",
    "from statsmodels.iolib.table import SimpleTable\n",
    "from sklearn.metrics import r2_score\n",
    "import ml_metrics as metrics\n",
    "from sklearn.linear_model import LinearRegression\n",
    "import csv\n",
    "from itertools import zip_longest\n",
    "import seaborn as sns"
   ]
  },
  {
   "cell_type": "code",
   "execution_count": 55,
   "id": "68b8345c",
   "metadata": {},
   "outputs": [
    {
     "name": "stderr",
     "output_type": "stream",
     "text": [
      "C:\\Python39\\lib\\site-packages\\IPython\\core\\interactiveshell.py:3457: FutureWarning: In a future version of pandas all arguments of read_csv except for the argument 'filepath_or_buffer' will be keyword-only\n",
      "  exec(code_obj, self.user_global_ns, self.user_ns)\n"
     ]
    },
    {
     "data": {
      "text/html": [
       "<div>\n",
       "<style scoped>\n",
       "    .dataframe tbody tr th:only-of-type {\n",
       "        vertical-align: middle;\n",
       "    }\n",
       "\n",
       "    .dataframe tbody tr th {\n",
       "        vertical-align: top;\n",
       "    }\n",
       "\n",
       "    .dataframe thead th {\n",
       "        text-align: right;\n",
       "    }\n",
       "</style>\n",
       "<table border=\"1\" class=\"dataframe\">\n",
       "  <thead>\n",
       "    <tr style=\"text-align: right;\">\n",
       "      <th></th>\n",
       "      <th>sum</th>\n",
       "      <th>eff</th>\n",
       "    </tr>\n",
       "    <tr>\n",
       "      <th>date</th>\n",
       "      <th></th>\n",
       "      <th></th>\n",
       "    </tr>\n",
       "  </thead>\n",
       "  <tbody>\n",
       "    <tr>\n",
       "      <th>2010-01-01</th>\n",
       "      <td>7459388.43</td>\n",
       "      <td>4.930</td>\n",
       "    </tr>\n",
       "    <tr>\n",
       "      <th>2011-01-01</th>\n",
       "      <td>8094098.54</td>\n",
       "      <td>5.060</td>\n",
       "    </tr>\n",
       "    <tr>\n",
       "      <th>2012-01-01</th>\n",
       "      <td>9758325.30</td>\n",
       "      <td>5.166</td>\n",
       "    </tr>\n",
       "    <tr>\n",
       "      <th>2013-01-01</th>\n",
       "      <td>9572649.28</td>\n",
       "      <td>5.330</td>\n",
       "    </tr>\n",
       "    <tr>\n",
       "      <th>2014-01-01</th>\n",
       "      <td>11028442.22</td>\n",
       "      <td>5.220</td>\n",
       "    </tr>\n",
       "  </tbody>\n",
       "</table>\n",
       "</div>"
      ],
      "text/plain": [
       "                    sum    eff\n",
       "date                          \n",
       "2010-01-01   7459388.43  4.930\n",
       "2011-01-01   8094098.54  5.060\n",
       "2012-01-01   9758325.30  5.166\n",
       "2013-01-01   9572649.28  5.330\n",
       "2014-01-01  11028442.22  5.220"
      ]
     },
     "execution_count": 55,
     "metadata": {},
     "output_type": "execute_result"
    }
   ],
   "source": [
    "# Чтение данных\n",
    "dataset = read_csv('data.csv',',', index_col=['date'], parse_dates=['date'], dayfirst=True)\n",
    "dataset.head()"
   ]
  },
  {
   "cell_type": "code",
   "execution_count": 100,
   "id": "1ed2911a",
   "metadata": {},
   "outputs": [
    {
     "data": {
      "text/plain": [
       "<AxesSubplot:xlabel='sum', ylabel='eff'>"
      ]
     },
     "execution_count": 100,
     "metadata": {},
     "output_type": "execute_result"
    },
    {
     "data": {
      "image/png": "[encoded data removed]",
      "text/plain": [
       "<Figure size 864x432 with 1 Axes>"
      ]
     },
     "metadata": {},
     "output_type": "display_data"
    }
   ],
   "source": [
    "sns.set(rc={'figure.figsize':(12,6)})\n",
    "sns.regplot(x=dataset[\"sum\"], y=dataset[\"eff\"])"
   ]
  },
  {
   "cell_type": "code",
   "execution_count": 56,
   "id": "b7693390",
   "metadata": {},
   "outputs": [
    {
     "data": {
      "text/html": [
       "<div>\n",
       "<style scoped>\n",
       "    .dataframe tbody tr th:only-of-type {\n",
       "        vertical-align: middle;\n",
       "    }\n",
       "\n",
       "    .dataframe tbody tr th {\n",
       "        vertical-align: top;\n",
       "    }\n",
       "\n",
       "    .dataframe thead th {\n",
       "        text-align: right;\n",
       "    }\n",
       "</style>\n",
       "<table border=\"1\" class=\"dataframe\">\n",
       "  <thead>\n",
       "    <tr style=\"text-align: right;\">\n",
       "      <th></th>\n",
       "      <th>sum</th>\n",
       "    </tr>\n",
       "    <tr>\n",
       "      <th>date</th>\n",
       "      <th></th>\n",
       "    </tr>\n",
       "  </thead>\n",
       "  <tbody>\n",
       "    <tr>\n",
       "      <th>2010-01-01</th>\n",
       "      <td>7459388.43</td>\n",
       "    </tr>\n",
       "    <tr>\n",
       "      <th>2011-01-01</th>\n",
       "      <td>8094098.54</td>\n",
       "    </tr>\n",
       "    <tr>\n",
       "      <th>2012-01-01</th>\n",
       "      <td>9758325.30</td>\n",
       "    </tr>\n",
       "    <tr>\n",
       "      <th>2013-01-01</th>\n",
       "      <td>9572649.28</td>\n",
       "    </tr>\n",
       "    <tr>\n",
       "      <th>2014-01-01</th>\n",
       "      <td>11028442.22</td>\n",
       "    </tr>\n",
       "  </tbody>\n",
       "</table>\n",
       "</div>"
      ],
      "text/plain": [
       "                    sum\n",
       "date                   \n",
       "2010-01-01   7459388.43\n",
       "2011-01-01   8094098.54\n",
       "2012-01-01   9758325.30\n",
       "2013-01-01   9572649.28\n",
       "2014-01-01  11028442.22"
      ]
     },
     "execution_count": 56,
     "metadata": {},
     "output_type": "execute_result"
    }
   ],
   "source": [
    "otg = DataFrame(dataset['sum'])\n",
    "otg.head()"
   ]
  },
  {
   "cell_type": "code",
   "execution_count": 57,
   "id": "2ddd6ca1",
   "metadata": {},
   "outputs": [
    {
     "data": {
      "text/plain": [
       "<AxesSubplot:xlabel='date'>"
      ]
     },
     "execution_count": 57,
     "metadata": {},
     "output_type": "execute_result"
    },
    {
     "data": {
      "image/png": "[encoded data removed]",
      "text/plain": [
       "<Figure size 864x432 with 1 Axes>"
      ]
     },
     "metadata": {
      "needs_background": "light"
     },
     "output_type": "display_data"
    }
   ],
   "source": [
    "otg.plot(figsize=(12,6))"
   ]
  },
  {
   "cell_type": "code",
   "execution_count": 58,
   "id": "9c583d5c",
   "metadata": {},
   "outputs": [
    {
     "name": "stdout",
     "output_type": "stream",
     "text": [
      "                    sum\n",
      "date                   \n",
      "2010-12-31   7459388.43\n",
      "2011-12-31   8094098.54\n",
      "2012-12-31   9758325.30\n",
      "2013-12-31   9572649.28\n",
      "2014-12-31  11028442.22\n",
      "2015-12-31  10700130.71\n",
      "2016-12-31  10394464.74\n",
      "2017-12-31   9921567.88\n",
      "2018-12-31  10533296.88\n",
      "2019-12-31  12794500.74\n",
      "2020-12-31  13473499.85\n",
      "2021-12-31  14410080.23\n"
     ]
    },
    {
     "data": {
      "text/plain": [
       "<AxesSubplot:xlabel='date'>"
      ]
     },
     "execution_count": 58,
     "metadata": {},
     "output_type": "execute_result"
    },
    {
     "data": {
      "image/png": "[encoded data removed]",
      "text/plain": [
       "<Figure size 864x432 with 1 Axes>"
      ]
     },
     "metadata": {
      "needs_background": "light"
     },
     "output_type": "display_data"
    }
   ],
   "source": [
    "otgR = otg.resample('A').mean()\n",
    "print(otgR)\n",
    "otgR.plot(figsize=(12,6))"
   ]
  },
  {
   "cell_type": "code",
   "execution_count": 59,
   "id": "cede6a5c",
   "metadata": {},
   "outputs": [
    {
     "data": {
      "text/html": [
       "<div>\n",
       "<style scoped>\n",
       "    .dataframe tbody tr th:only-of-type {\n",
       "        vertical-align: middle;\n",
       "    }\n",
       "\n",
       "    .dataframe tbody tr th {\n",
       "        vertical-align: top;\n",
       "    }\n",
       "\n",
       "    .dataframe thead th {\n",
       "        text-align: right;\n",
       "    }\n",
       "</style>\n",
       "<table border=\"1\" class=\"dataframe\">\n",
       "  <thead>\n",
       "    <tr style=\"text-align: right;\">\n",
       "      <th></th>\n",
       "      <th>count</th>\n",
       "      <th>mean</th>\n",
       "      <th>std</th>\n",
       "      <th>min</th>\n",
       "      <th>25%</th>\n",
       "      <th>50%</th>\n",
       "      <th>75%</th>\n",
       "      <th>max</th>\n",
       "    </tr>\n",
       "  </thead>\n",
       "  <tbody>\n",
       "    <tr>\n",
       "      <th>sum</th>\n",
       "      <td>12.0</td>\n",
       "      <td>10678370.4</td>\n",
       "      <td>2.047687e+06</td>\n",
       "      <td>7459388.43</td>\n",
       "      <td>9711906.295</td>\n",
       "      <td>10463880.81</td>\n",
       "      <td>11469956.85</td>\n",
       "      <td>14410080.23</td>\n",
       "    </tr>\n",
       "  </tbody>\n",
       "</table>\n",
       "</div>"
      ],
      "text/plain": [
       "     count        mean           std         min          25%          50%  \\\n",
       "sum   12.0  10678370.4  2.047687e+06  7459388.43  9711906.295  10463880.81   \n",
       "\n",
       "             75%          max  \n",
       "sum  11469956.85  14410080.23  "
      ]
     },
     "execution_count": 59,
     "metadata": {},
     "output_type": "execute_result"
    }
   ],
   "source": [
    "itog = otgR.describe()\n",
    "itog = itog.T\n",
    "itog"
   ]
  },
  {
   "cell_type": "code",
   "execution_count": 60,
   "id": "69724b1c",
   "metadata": {},
   "outputs": [
    {
     "name": "stdout",
     "output_type": "stream",
     "text": [
      "V = 0.191760\n"
     ]
    }
   ],
   "source": [
    "print('V = %f' % (itog['std']/itog['mean']))"
   ]
  },
  {
   "cell_type": "code",
   "execution_count": 61,
   "id": "35a736ba",
   "metadata": {},
   "outputs": [
    {
     "data": {
      "text/html": [
       "<div>\n",
       "<style scoped>\n",
       "    .dataframe tbody tr th:only-of-type {\n",
       "        vertical-align: middle;\n",
       "    }\n",
       "\n",
       "    .dataframe tbody tr th {\n",
       "        vertical-align: top;\n",
       "    }\n",
       "\n",
       "    .dataframe thead th {\n",
       "        text-align: right;\n",
       "    }\n",
       "</style>\n",
       "<table border=\"1\" class=\"dataframe\">\n",
       "  <thead>\n",
       "    <tr style=\"text-align: right;\">\n",
       "      <th></th>\n",
       "      <th>JB</th>\n",
       "      <th>p-value</th>\n",
       "      <th>skew</th>\n",
       "      <th>kurtosis</th>\n",
       "    </tr>\n",
       "  </thead>\n",
       "  <tbody>\n",
       "    <tr>\n",
       "      <th>0</th>\n",
       "      <td>0.388365</td>\n",
       "      <td>0.823508</td>\n",
       "      <td>0.333088</td>\n",
       "      <td>2.422991</td>\n",
       "    </tr>\n",
       "  </tbody>\n",
       "</table>\n",
       "</div>"
      ],
      "text/plain": [
       "         JB   p-value      skew  kurtosis\n",
       "0  0.388365  0.823508  0.333088  2.422991"
      ]
     },
     "execution_count": 61,
     "metadata": {},
     "output_type": "execute_result"
    }
   ],
   "source": [
    "row =  [u'JB', u'p-value', u'skew', u'kurtosis']\n",
    "jb_test = sm.stats.stattools.jarque_bera(otg)\n",
    "a = np.vstack(jb_test)\n",
    "s = DataFrame(a, index=row).T\n",
    "s"
   ]
  },
  {
   "cell_type": "code",
   "execution_count": 62,
   "id": "cd955ac7",
   "metadata": {},
   "outputs": [
    {
     "name": "stderr",
     "output_type": "stream",
     "text": [
      "C:\\Python39\\lib\\site-packages\\statsmodels\\graphics\\tsaplots.py:348: FutureWarning: The default method 'yw' can produce PACF values outside of the [-1,1] interval. After 0.13, the default will change tounadjusted Yule-Walker ('ywm'). You can use this method now by setting method='ywm'.\n",
      "  warnings.warn(\n"
     ]
    },
    {
     "data": {
      "image/png": "[encoded data removed]",
      "text/plain": [
       "<Figure size 864x576 with 2 Axes>"
      ]
     },
     "metadata": {
      "needs_background": "light"
     },
     "output_type": "display_data"
    }
   ],
   "source": [
    "otg1diff = otgR.diff(periods=1).dropna()\n",
    "fig = plt.figure(figsize=(12,8))\n",
    "ax1 = fig.add_subplot(211)\n",
    "fig = sm.graphics.tsa.plot_acf(otg1diff.values.squeeze(), lags=10, ax=ax1)\n",
    "ax2 = fig.add_subplot(212)\n",
    "fig = sm.graphics.tsa.plot_pacf(otg1diff, lags=4, ax=ax2)"
   ]
  },
  {
   "cell_type": "code",
   "execution_count": 63,
   "id": "eeec9adb",
   "metadata": {},
   "outputs": [
    {
     "name": "stderr",
     "output_type": "stream",
     "text": [
      "C:\\Python39\\lib\\site-packages\\statsmodels\\tsa\\base\\tsa_model.py:471: ValueWarning: No frequency information was provided, so inferred frequency AS-JAN will be used.\n",
      "  self._init_dates(dates, freq)\n",
      "C:\\Python39\\lib\\site-packages\\statsmodels\\tsa\\base\\tsa_model.py:471: ValueWarning: No frequency information was provided, so inferred frequency AS-JAN will be used.\n",
      "  self._init_dates(dates, freq)\n",
      "C:\\Python39\\lib\\site-packages\\statsmodels\\tsa\\base\\tsa_model.py:471: ValueWarning: No frequency information was provided, so inferred frequency AS-JAN will be used.\n",
      "  self._init_dates(dates, freq)\n"
     ]
    }
   ],
   "source": [
    "src_data_model = otg['sum']\n",
    "model = sm.tsa.ARIMA(src_data_model, order=(1,1,1)).fit()"
   ]
  },
  {
   "cell_type": "code",
   "execution_count": 64,
   "id": "18a01df4",
   "metadata": {},
   "outputs": [
    {
     "name": "stdout",
     "output_type": "stream",
     "text": [
      "                               SARIMAX Results                                \n",
      "==============================================================================\n",
      "Dep. Variable:                    sum   No. Observations:                   12\n",
      "Model:                 ARIMA(1, 1, 1)   Log Likelihood                -166.361\n",
      "Date:                Thu, 19 May 2022   AIC                            338.723\n",
      "Time:                        21:45:24   BIC                            339.917\n",
      "Sample:                    01-01-2010   HQIC                           337.970\n",
      "                         - 01-01-2021                                         \n",
      "Covariance Type:                  opg                                         \n",
      "==============================================================================\n",
      "                 coef    std err          z      P>|z|      [0.025      0.975]\n",
      "------------------------------------------------------------------------------\n",
      "ar.L1          0.9981      0.106      9.394      0.000       0.790       1.206\n",
      "ma.L1         -0.9820      0.507     -1.938      0.053      -1.975       0.011\n",
      "sigma2      9.055e+11   3.48e-13    2.6e+24      0.000    9.05e+11    9.05e+11\n",
      "===================================================================================\n",
      "Ljung-Box (L1) (Q):                   0.02   Jarque-Bera (JB):                 0.63\n",
      "Prob(Q):                              0.90   Prob(JB):                         0.73\n",
      "Heteroskedasticity (H):               1.27   Skew:                             0.36\n",
      "Prob(H) (two-sided):                  0.82   Kurtosis:                         2.08\n",
      "===================================================================================\n",
      "\n",
      "Warnings:\n",
      "[1] Covariance matrix calculated using the outer product of gradients (complex-step).\n",
      "[2] Covariance matrix is singular or near-singular, with condition number 1.14e+40. Standard errors may be unstable.\n"
     ]
    }
   ],
   "source": [
    "print(model.summary())"
   ]
  },
  {
   "cell_type": "code",
   "execution_count": 65,
   "id": "a0a36a10",
   "metadata": {},
   "outputs": [
    {
     "name": "stdout",
     "output_type": "stream",
     "text": [
      "2022-01-01    1.500498e+07\n",
      "2023-01-01    1.559875e+07\n",
      "Freq: AS-JAN, Name: predicted_mean, dtype: float64\n"
     ]
    }
   ],
   "source": [
    "pred = model.predict('2022-01-01', '2023-01-01', typ='levels')\n",
    "print(pred)"
   ]
  },
  {
   "cell_type": "code",
   "execution_count": 66,
   "id": "8210e66b",
   "metadata": {},
   "outputs": [
    {
     "data": {
      "text/plain": [
       "<AxesSubplot:xlabel='date'>"
      ]
     },
     "execution_count": 66,
     "metadata": {},
     "output_type": "execute_result"
    },
    {
     "data": {
      "image/png": "[encoded data removed]",
      "text/plain": [
       "<Figure size 864x432 with 1 Axes>"
      ]
     },
     "metadata": {
      "needs_background": "light"
     },
     "output_type": "display_data"
    }
   ],
   "source": [
    "otg.plot(figsize=(12,6))\n",
    "pred.plot(style='r--')"
   ]
  },
  {
   "cell_type": "code",
   "execution_count": 67,
   "id": "d3b4de3a",
   "metadata": {},
   "outputs": [],
   "source": [
    "x = np.array(dataset['sum']).reshape((-1, 1))\n",
    "y = np.array(dataset['eff'])"
   ]
  },
  {
   "cell_type": "code",
   "execution_count": 68,
   "id": "d52771e6",
   "metadata": {},
   "outputs": [],
   "source": [
    "model = LinearRegression().fit(x, y)"
   ]
  },
  {
   "cell_type": "code",
   "execution_count": 69,
   "id": "86f2765d",
   "metadata": {},
   "outputs": [
    {
     "name": "stdout",
     "output_type": "stream",
     "text": [
      "coefficient of determination: 0.6910309620247383\n"
     ]
    }
   ],
   "source": [
    "r_sq = model.score(x, y)\n",
    "print('coefficient of determination:', r_sq)"
   ]
  },
  {
   "cell_type": "code",
   "execution_count": 70,
   "id": "62b665db",
   "metadata": {},
   "outputs": [
    {
     "name": "stdout",
     "output_type": "stream",
     "text": [
      "[[15004984.58315969]\n",
      " [15598747.30755774]]\n"
     ]
    }
   ],
   "source": [
    "x = np.array(pred).reshape((-1,1))\n",
    "print(x)"
   ]
  },
  {
   "cell_type": "code",
   "execution_count": 71,
   "id": "f668d741",
   "metadata": {},
   "outputs": [],
   "source": [
    "y_pred = model.predict(x)"
   ]
  },
  {
   "cell_type": "code",
   "execution_count": 95,
   "id": "74b61260",
   "metadata": {},
   "outputs": [
    {
     "name": "stderr",
     "output_type": "stream",
     "text": [
      "C:\\Python39\\lib\\site-packages\\IPython\\core\\interactiveshell.py:3457: FutureWarning: In a future version of pandas all arguments of read_csv except for the argument 'filepath_or_buffer' will be keyword-only\n",
      "  exec(code_obj, self.user_global_ns, self.user_ns)\n"
     ]
    },
    {
     "data": {
      "text/plain": [
       "<AxesSubplot:xlabel='date'>"
      ]
     },
     "execution_count": 95,
     "metadata": {},
     "output_type": "execute_result"
    },
    {
     "data": {
      "image/png": "[encoded data removed]",
      "text/plain": [
       "<Figure size 864x432 with 1 Axes>"
      ]
     },
     "metadata": {
      "needs_background": "light"
     },
     "output_type": "display_data"
    }
   ],
   "source": [
    "data = [['2022-01-01', '2023-01-01'], y_pred]\n",
    "export_data = zip_longest(*data, fillvalue = '')\n",
    "with open('mycsvfile.csv', 'w', newline='') as file:\n",
    "      w = csv.writer(file)\n",
    "      w.writerow(('date', 'eff'))\n",
    "      w.writerows(export_data)\n",
    "\n",
    "otg3 = read_csv('mycsvfile.csv',',', index_col=['date'], parse_dates=['date'], dayfirst=True)\n",
    "fig, ax = plt.subplots(figsize=(12, 6))\n",
    "\n",
    "# plot desired quantities; note the `ax=ax` in both\n",
    "otg2.plot(ax=ax)\n",
    "otg3.plot(ax=ax, style=\"--r\")"
   ]
  },
  {
   "cell_type": "code",
   "execution_count": null,
   "id": "b5ea5260",
   "metadata": {},
   "outputs": [],
   "source": []
  },
  {
   "cell_type": "code",
   "execution_count": null,
   "id": "daf11f79",
   "metadata": {},
   "outputs": [],
   "source": []
  }
 ],
 "metadata": {
  "kernelspec": {
   "display_name": "Python 3 (ipykernel)",
   "language": "python",
   "name": "python3"
  },
  "language_info": {
   "codemirror_mode": {
    "name": "ipython",
    "version": 3
   },
   "file_extension": ".py",
   "mimetype": "text/x-python",
   "name": "python",
   "nbconvert_exporter": "python",
   "pygments_lexer": "ipython3",
   "version": "3.9.6"
  }
 },
 "nbformat": 4,
 "nbformat_minor": 5
}
